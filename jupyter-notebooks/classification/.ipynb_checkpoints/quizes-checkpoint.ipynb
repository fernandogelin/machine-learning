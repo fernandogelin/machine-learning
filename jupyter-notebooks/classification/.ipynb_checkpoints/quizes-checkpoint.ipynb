{
 "cells": [
  {
   "cell_type": "markdown",
   "metadata": {},
   "source": [
    "# Week 2"
   ]
  },
  {
   "cell_type": "code",
   "execution_count": 4,
   "metadata": {
    "collapsed": false
   },
   "outputs": [],
   "source": [
    "from __future__ import division\n",
    "import numpy as np"
   ]
  },
  {
   "cell_type": "code",
   "execution_count": 2,
   "metadata": {
    "collapsed": true
   },
   "outputs": [],
   "source": [
    "x1 = 2.5\n",
    "x2 = 0.3\n",
    "x3 = 2.8\n",
    "x4 = 0.5\n",
    "\n",
    "y1 = 1\n",
    "y2 = -1\n",
    "y3 = 1\n",
    "y4 = 1\n",
    "\n",
    "w0 = 0\n",
    "w1 = 1"
   ]
  },
  {
   "cell_type": "code",
   "execution_count": 9,
   "metadata": {
    "collapsed": true
   },
   "outputs": [],
   "source": [
    "p1 = 1 / ( 1 + np.exp(-(w1 * x1)))\n",
    "p2 = 1 / ( 1 + np.exp(-(w1 * x2)))\n",
    "p3 = 1 / ( 1 + np.exp(-(w1 * x3)))\n",
    "p4 = 1 / ( 1 + np.exp(-(w1 * x4)))"
   ]
  },
  {
   "cell_type": "code",
   "execution_count": 14,
   "metadata": {
    "collapsed": false
   },
   "outputs": [
    {
     "data": {
      "text/plain": [
       "0.23076514147414118"
      ]
     },
     "execution_count": 14,
     "metadata": {},
     "output_type": "execute_result"
    }
   ],
   "source": [
    "likelihood = p1 * (1-p2) * p3 * p4\n",
    "likelihood"
   ]
  },
  {
   "cell_type": "code",
   "execution_count": 12,
   "metadata": {
    "collapsed": false
   },
   "outputs": [
    {
     "data": {
      "text/plain": [
       "0.36659072192551606"
      ]
     },
     "execution_count": 12,
     "metadata": {},
     "output_type": "execute_result"
    }
   ],
   "source": [
    "derivative_log_likelihood = x1*(1-p1) + x2*(0-p2) + x3*(1-p3) + x4*(1-p4) \n",
    "derivative_log_likelihood"
   ]
  }
 ],
 "metadata": {
  "kernelspec": {
   "display_name": "Python 2",
   "language": "python",
   "name": "python2"
  },
  "language_info": {
   "codemirror_mode": {
    "name": "ipython",
    "version": 2
   },
   "file_extension": ".py",
   "mimetype": "text/x-python",
   "name": "python",
   "nbconvert_exporter": "python",
   "pygments_lexer": "ipython2",
   "version": "2.7.11"
  }
 },
 "nbformat": 4,
 "nbformat_minor": 0
}
